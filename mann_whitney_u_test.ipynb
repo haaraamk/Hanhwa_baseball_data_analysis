{
  "nbformat": 4,
  "nbformat_minor": 0,
  "metadata": {
    "colab": {
      "provenance": [],
      "include_colab_link": true
    },
    "kernelspec": {
      "name": "python3",
      "display_name": "Python 3"
    },
    "language_info": {
      "name": "python"
    }
  },
  "cells": [
    {
      "cell_type": "markdown",
      "metadata": {
        "id": "view-in-github",
        "colab_type": "text"
      },
      "source": [
        "<a href=\"https://colab.research.google.com/github/haaraamk/Hanhwa_baseball_data_analysis/blob/main/mann_whitney_u_test.ipynb\" target=\"_parent\"><img src=\"https://colab.research.google.com/assets/colab-badge.svg\" alt=\"Open In Colab\"/></a>"
      ]
    },
    {
      "cell_type": "markdown",
      "source": [
        "# 맨휘트니 U test\n",
        "\n",
        "### 맨휘트니 U 검정의 특징과 사용 조건\n",
        "비모수적 방법: 데이터가 정규 분포를 따를 필요가 없습니다.\n",
        "순위 기반: 데이터를 순위로 변환하여 검정합니다.\n",
        "표본 크기의 차이: 두 집단의 표본 크기가 달라도 사용할 수 있습니다.\n",
        "대응되지 않은 데이터: 독립적인 두 집단 간의 비교에 적합합니다.\n",
        "\n",
        "### 절차\n",
        "두 집단의 데이터를 결합: 두 집단의 데이터를 하나로 결합합니다.\n",
        "데이터 순위 매기기: 결합된 데이터를 오름차순으로 정렬하고 각 데이터 포인트에 순위를 부여합니다.\n",
        "순위 합 계산: 각 집단의 순위 합을 계산합니다.\n",
        "U 값 계산: 각 집단에 대해 U 값을 계산합니다.\n",
        "유의성 검정: U 값을 사용하여 두 집단 간 차이가 유의미한지 판단합니다.\n",
        "\n"
      ],
      "metadata": {
        "id": "kaDqwhUH17Qk"
      }
    },
    {
      "cell_type": "code",
      "source": [
        "from google.colab import drive\n",
        "\n",
        "# Google Drive 마운트\n",
        "drive.mount('/content/drive')"
      ],
      "metadata": {
        "colab": {
          "base_uri": "https://localhost:8080/"
        },
        "id": "2fJ6xEzo6wCc",
        "outputId": "b9e77f23-56bc-49e5-b8d0-2fd3ead67c88"
      },
      "execution_count": null,
      "outputs": [
        {
          "output_type": "stream",
          "name": "stdout",
          "text": [
            "Drive already mounted at /content/drive; to attempt to forcibly remount, call drive.mount(\"/content/drive\", force_remount=True).\n"
          ]
        }
      ]
    },
    {
      "cell_type": "code",
      "execution_count": null,
      "metadata": {
        "id": "ivvVfjJ_1fdc"
      },
      "outputs": [],
      "source": [
        "dpath = \"/content/drive/MyDrive/hanwha_project/data/\""
      ]
    },
    {
      "cell_type": "code",
      "source": [
        "import pandas as pd\n",
        "from scipy.stats import mannwhitneyu\n",
        "\n",
        "# 데이터프레임으로 파일 읽기\n",
        "# 외국인 타자\n",
        "df_h = pd.read_csv(dpath+ 'df_Foreign_Hitter.csv')\n",
        "df_hh = pd.read_csv(dpath+ 'df_Hanwha_Foreign_Hitter.csv')\n",
        "# 외국인 투수\n",
        "df_p = pd.read_csv(dpath+ 'df_Foreign_Pitcher.csv')\n",
        "df_hp = pd.read_csv(dpath+ 'df_Hanwha_Foreign_Pitcher.csv')\n",
        "# 신인 타자\n",
        "df_hnh = pd.read_csv(dpath+ 'df_Hanwha_New_Hitter.csv')\n",
        "df_nh = pd.read_csv(dpath+ 'df_New_Hitter.csv')\n",
        "# 신인 투수\n",
        "df_hnp = pd.read_csv(dpath+ 'df_Hanwha_New_Pitcher.csv')\n",
        "df_np = pd.read_csv(dpath+ 'df_New_Pitcher.csv')"
      ],
      "metadata": {
        "id": "NOuwEkQq69EW"
      },
      "execution_count": null,
      "outputs": []
    },
    {
      "cell_type": "markdown",
      "source": [
        "# 외국인 타자"
      ],
      "metadata": {
        "id": "XFysj8b-B04G"
      }
    },
    {
      "cell_type": "code",
      "source": [
        "df_h.columns"
      ],
      "metadata": {
        "colab": {
          "base_uri": "https://localhost:8080/"
        },
        "id": "ezTD8UhA8G0f",
        "outputId": "8de45862-99b3-4eb3-f393-ebf2b2080935"
      },
      "execution_count": null,
      "outputs": [
        {
          "output_type": "execute_result",
          "data": {
            "text/plain": [
              "Index(['Rank', 'Name', 'Team', 'WAR', 'oWAR(공격)', 'dWAR(수비)', 'G', 'PA(타석)',\n",
              "       'ePA(실질타석)', 'AB(타수)', 'R(득점)', 'H(안타)', '2B', '3B', 'HR', 'TB(루타)',\n",
              "       'RBI(타점)', 'SB(도루)', 'CS(도루실패)', 'BB(4구)', 'HP(사구)', 'IB(고의4구)',\n",
              "       'SO(삼진)', 'GDP(병살타)', 'SH(희생타)', 'SF(희생플라이)', 'AVG(타율)', 'OBP(출루율)',\n",
              "       'SLG(장타율)', 'OPS', 'R/ePA', 'wRC+(득점 창출력)', 'WAR.1'],\n",
              "      dtype='object')"
            ]
          },
          "metadata": {},
          "execution_count": 4
        }
      ]
    },
    {
      "cell_type": "code",
      "source": [
        "df_hh.columns"
      ],
      "metadata": {
        "colab": {
          "base_uri": "https://localhost:8080/"
        },
        "id": "2hulMssF9Q-0",
        "outputId": "955adbb2-d66c-4354-cbf6-50b9a2ae45fe"
      },
      "execution_count": null,
      "outputs": [
        {
          "output_type": "execute_result",
          "data": {
            "text/plain": [
              "Index(['이름', 'Div.', 'Year', 'Team', 'Age', 'Pos.', 'oWAR(공격)', 'dWAR(수비)',\n",
              "       'G', 'PA(타석)', 'ePA(실질타석)', 'AB(타수)', 'R(득점)', 'H(안타)', '2B', '3B',\n",
              "       'HR', 'TB(루타)', 'RBI(타점)', 'SB(도루)', 'CS(도루실패)', 'BB(4구)', 'HP(사구)',\n",
              "       'IB(고의4구)', 'SO(삼진)', 'GDP(병살타)', 'SH(희생타)', 'SF(희생플라이)', 'AVG(타율)',\n",
              "       'OBP(출루율)', 'SLG(장타율)', 'OPS', 'R/ePA', 'wRC+(득점 창출력)', 'WAR'],\n",
              "      dtype='object')"
            ]
          },
          "metadata": {},
          "execution_count": 5
        }
      ]
    },
    {
      "cell_type": "code",
      "source": [
        "# df_fh에서 '이름' 칼럼을 리스트로 변환\n",
        "names_to_remove = df_hh['이름'].tolist()\n",
        "\n",
        "# df_h에서 'Name' 칼럼이 names_to_remove 리스트에 있는 행을 삭제\n",
        "df_h_filtered = df_h[~df_h['Name'].isin(names_to_remove)]\n",
        "\n",
        "# 필요한 칼럼만 추출\n",
        "df_h = df_h_filtered[['Name', 'OPS', 'wRC+(득점 창출력)', 'WAR']]\n",
        "\n",
        "# 칼럼 이름 재설정\n",
        "df_h = df_h.rename(columns={\n",
        "    'wRC+(득점 창출력)': 'wRC+'\n",
        "})\n",
        "\n",
        "# 필요한 칼럼만 추출\n",
        "df_hh = df_hh[['이름', 'OPS', 'wRC+(득점 창출력)', 'WAR']]\n",
        "\n",
        "# 칼럼명 변경\n",
        "df_hh = df_hh.rename(columns={\n",
        "    'wRC+(득점 창출력)': 'wRC+',\n",
        "    '이름' : 'Name'\n",
        "})"
      ],
      "metadata": {
        "id": "zguZX2y69SYp"
      },
      "execution_count": null,
      "outputs": []
    },
    {
      "cell_type": "code",
      "source": [
        "df_hh.head()"
      ],
      "metadata": {
        "colab": {
          "base_uri": "https://localhost:8080/",
          "height": 206
        },
        "id": "0qldRf5U_nhy",
        "outputId": "5a5d2561-778d-4939-b88c-a3747419c674"
      },
      "execution_count": null,
      "outputs": [
        {
          "output_type": "execute_result",
          "data": {
            "text/plain": [
              "   Name    OPS   wRC+   WAR\n",
              "0   페라자  0.983  158.0  2.03\n",
              "1  윌리엄스  0.678   82.6 -0.81\n",
              "2   터크먼  0.796  123.5  4.06\n",
              "3    힐리  0.700   86.0  0.63\n",
              "4   페레즈  0.732   94.1  0.72"
            ],
            "text/html": [
              "\n",
              "  <div id=\"df-1877a203-b21b-4d7b-bff5-8fd894d05d92\" class=\"colab-df-container\">\n",
              "    <div>\n",
              "<style scoped>\n",
              "    .dataframe tbody tr th:only-of-type {\n",
              "        vertical-align: middle;\n",
              "    }\n",
              "\n",
              "    .dataframe tbody tr th {\n",
              "        vertical-align: top;\n",
              "    }\n",
              "\n",
              "    .dataframe thead th {\n",
              "        text-align: right;\n",
              "    }\n",
              "</style>\n",
              "<table border=\"1\" class=\"dataframe\">\n",
              "  <thead>\n",
              "    <tr style=\"text-align: right;\">\n",
              "      <th></th>\n",
              "      <th>Name</th>\n",
              "      <th>OPS</th>\n",
              "      <th>wRC+</th>\n",
              "      <th>WAR</th>\n",
              "    </tr>\n",
              "  </thead>\n",
              "  <tbody>\n",
              "    <tr>\n",
              "      <th>0</th>\n",
              "      <td>페라자</td>\n",
              "      <td>0.983</td>\n",
              "      <td>158.0</td>\n",
              "      <td>2.03</td>\n",
              "    </tr>\n",
              "    <tr>\n",
              "      <th>1</th>\n",
              "      <td>윌리엄스</td>\n",
              "      <td>0.678</td>\n",
              "      <td>82.6</td>\n",
              "      <td>-0.81</td>\n",
              "    </tr>\n",
              "    <tr>\n",
              "      <th>2</th>\n",
              "      <td>터크먼</td>\n",
              "      <td>0.796</td>\n",
              "      <td>123.5</td>\n",
              "      <td>4.06</td>\n",
              "    </tr>\n",
              "    <tr>\n",
              "      <th>3</th>\n",
              "      <td>힐리</td>\n",
              "      <td>0.700</td>\n",
              "      <td>86.0</td>\n",
              "      <td>0.63</td>\n",
              "    </tr>\n",
              "    <tr>\n",
              "      <th>4</th>\n",
              "      <td>페레즈</td>\n",
              "      <td>0.732</td>\n",
              "      <td>94.1</td>\n",
              "      <td>0.72</td>\n",
              "    </tr>\n",
              "  </tbody>\n",
              "</table>\n",
              "</div>\n",
              "    <div class=\"colab-df-buttons\">\n",
              "\n",
              "  <div class=\"colab-df-container\">\n",
              "    <button class=\"colab-df-convert\" onclick=\"convertToInteractive('df-1877a203-b21b-4d7b-bff5-8fd894d05d92')\"\n",
              "            title=\"Convert this dataframe to an interactive table.\"\n",
              "            style=\"display:none;\">\n",
              "\n",
              "  <svg xmlns=\"http://www.w3.org/2000/svg\" height=\"24px\" viewBox=\"0 -960 960 960\">\n",
              "    <path d=\"M120-120v-720h720v720H120Zm60-500h600v-160H180v160Zm220 220h160v-160H400v160Zm0 220h160v-160H400v160ZM180-400h160v-160H180v160Zm440 0h160v-160H620v160ZM180-180h160v-160H180v160Zm440 0h160v-160H620v160Z\"/>\n",
              "  </svg>\n",
              "    </button>\n",
              "\n",
              "  <style>\n",
              "    .colab-df-container {\n",
              "      display:flex;\n",
              "      gap: 12px;\n",
              "    }\n",
              "\n",
              "    .colab-df-convert {\n",
              "      background-color: #E8F0FE;\n",
              "      border: none;\n",
              "      border-radius: 50%;\n",
              "      cursor: pointer;\n",
              "      display: none;\n",
              "      fill: #1967D2;\n",
              "      height: 32px;\n",
              "      padding: 0 0 0 0;\n",
              "      width: 32px;\n",
              "    }\n",
              "\n",
              "    .colab-df-convert:hover {\n",
              "      background-color: #E2EBFA;\n",
              "      box-shadow: 0px 1px 2px rgba(60, 64, 67, 0.3), 0px 1px 3px 1px rgba(60, 64, 67, 0.15);\n",
              "      fill: #174EA6;\n",
              "    }\n",
              "\n",
              "    .colab-df-buttons div {\n",
              "      margin-bottom: 4px;\n",
              "    }\n",
              "\n",
              "    [theme=dark] .colab-df-convert {\n",
              "      background-color: #3B4455;\n",
              "      fill: #D2E3FC;\n",
              "    }\n",
              "\n",
              "    [theme=dark] .colab-df-convert:hover {\n",
              "      background-color: #434B5C;\n",
              "      box-shadow: 0px 1px 3px 1px rgba(0, 0, 0, 0.15);\n",
              "      filter: drop-shadow(0px 1px 2px rgba(0, 0, 0, 0.3));\n",
              "      fill: #FFFFFF;\n",
              "    }\n",
              "  </style>\n",
              "\n",
              "    <script>\n",
              "      const buttonEl =\n",
              "        document.querySelector('#df-1877a203-b21b-4d7b-bff5-8fd894d05d92 button.colab-df-convert');\n",
              "      buttonEl.style.display =\n",
              "        google.colab.kernel.accessAllowed ? 'block' : 'none';\n",
              "\n",
              "      async function convertToInteractive(key) {\n",
              "        const element = document.querySelector('#df-1877a203-b21b-4d7b-bff5-8fd894d05d92');\n",
              "        const dataTable =\n",
              "          await google.colab.kernel.invokeFunction('convertToInteractive',\n",
              "                                                    [key], {});\n",
              "        if (!dataTable) return;\n",
              "\n",
              "        const docLinkHtml = 'Like what you see? Visit the ' +\n",
              "          '<a target=\"_blank\" href=https://colab.research.google.com/notebooks/data_table.ipynb>data table notebook</a>'\n",
              "          + ' to learn more about interactive tables.';\n",
              "        element.innerHTML = '';\n",
              "        dataTable['output_type'] = 'display_data';\n",
              "        await google.colab.output.renderOutput(dataTable, element);\n",
              "        const docLink = document.createElement('div');\n",
              "        docLink.innerHTML = docLinkHtml;\n",
              "        element.appendChild(docLink);\n",
              "      }\n",
              "    </script>\n",
              "  </div>\n",
              "\n",
              "\n",
              "<div id=\"df-5685a248-97d5-4f39-b369-90e1b3cb64af\">\n",
              "  <button class=\"colab-df-quickchart\" onclick=\"quickchart('df-5685a248-97d5-4f39-b369-90e1b3cb64af')\"\n",
              "            title=\"Suggest charts\"\n",
              "            style=\"display:none;\">\n",
              "\n",
              "<svg xmlns=\"http://www.w3.org/2000/svg\" height=\"24px\"viewBox=\"0 0 24 24\"\n",
              "     width=\"24px\">\n",
              "    <g>\n",
              "        <path d=\"M19 3H5c-1.1 0-2 .9-2 2v14c0 1.1.9 2 2 2h14c1.1 0 2-.9 2-2V5c0-1.1-.9-2-2-2zM9 17H7v-7h2v7zm4 0h-2V7h2v10zm4 0h-2v-4h2v4z\"/>\n",
              "    </g>\n",
              "</svg>\n",
              "  </button>\n",
              "\n",
              "<style>\n",
              "  .colab-df-quickchart {\n",
              "      --bg-color: #E8F0FE;\n",
              "      --fill-color: #1967D2;\n",
              "      --hover-bg-color: #E2EBFA;\n",
              "      --hover-fill-color: #174EA6;\n",
              "      --disabled-fill-color: #AAA;\n",
              "      --disabled-bg-color: #DDD;\n",
              "  }\n",
              "\n",
              "  [theme=dark] .colab-df-quickchart {\n",
              "      --bg-color: #3B4455;\n",
              "      --fill-color: #D2E3FC;\n",
              "      --hover-bg-color: #434B5C;\n",
              "      --hover-fill-color: #FFFFFF;\n",
              "      --disabled-bg-color: #3B4455;\n",
              "      --disabled-fill-color: #666;\n",
              "  }\n",
              "\n",
              "  .colab-df-quickchart {\n",
              "    background-color: var(--bg-color);\n",
              "    border: none;\n",
              "    border-radius: 50%;\n",
              "    cursor: pointer;\n",
              "    display: none;\n",
              "    fill: var(--fill-color);\n",
              "    height: 32px;\n",
              "    padding: 0;\n",
              "    width: 32px;\n",
              "  }\n",
              "\n",
              "  .colab-df-quickchart:hover {\n",
              "    background-color: var(--hover-bg-color);\n",
              "    box-shadow: 0 1px 2px rgba(60, 64, 67, 0.3), 0 1px 3px 1px rgba(60, 64, 67, 0.15);\n",
              "    fill: var(--button-hover-fill-color);\n",
              "  }\n",
              "\n",
              "  .colab-df-quickchart-complete:disabled,\n",
              "  .colab-df-quickchart-complete:disabled:hover {\n",
              "    background-color: var(--disabled-bg-color);\n",
              "    fill: var(--disabled-fill-color);\n",
              "    box-shadow: none;\n",
              "  }\n",
              "\n",
              "  .colab-df-spinner {\n",
              "    border: 2px solid var(--fill-color);\n",
              "    border-color: transparent;\n",
              "    border-bottom-color: var(--fill-color);\n",
              "    animation:\n",
              "      spin 1s steps(1) infinite;\n",
              "  }\n",
              "\n",
              "  @keyframes spin {\n",
              "    0% {\n",
              "      border-color: transparent;\n",
              "      border-bottom-color: var(--fill-color);\n",
              "      border-left-color: var(--fill-color);\n",
              "    }\n",
              "    20% {\n",
              "      border-color: transparent;\n",
              "      border-left-color: var(--fill-color);\n",
              "      border-top-color: var(--fill-color);\n",
              "    }\n",
              "    30% {\n",
              "      border-color: transparent;\n",
              "      border-left-color: var(--fill-color);\n",
              "      border-top-color: var(--fill-color);\n",
              "      border-right-color: var(--fill-color);\n",
              "    }\n",
              "    40% {\n",
              "      border-color: transparent;\n",
              "      border-right-color: var(--fill-color);\n",
              "      border-top-color: var(--fill-color);\n",
              "    }\n",
              "    60% {\n",
              "      border-color: transparent;\n",
              "      border-right-color: var(--fill-color);\n",
              "    }\n",
              "    80% {\n",
              "      border-color: transparent;\n",
              "      border-right-color: var(--fill-color);\n",
              "      border-bottom-color: var(--fill-color);\n",
              "    }\n",
              "    90% {\n",
              "      border-color: transparent;\n",
              "      border-bottom-color: var(--fill-color);\n",
              "    }\n",
              "  }\n",
              "</style>\n",
              "\n",
              "  <script>\n",
              "    async function quickchart(key) {\n",
              "      const quickchartButtonEl =\n",
              "        document.querySelector('#' + key + ' button');\n",
              "      quickchartButtonEl.disabled = true;  // To prevent multiple clicks.\n",
              "      quickchartButtonEl.classList.add('colab-df-spinner');\n",
              "      try {\n",
              "        const charts = await google.colab.kernel.invokeFunction(\n",
              "            'suggestCharts', [key], {});\n",
              "      } catch (error) {\n",
              "        console.error('Error during call to suggestCharts:', error);\n",
              "      }\n",
              "      quickchartButtonEl.classList.remove('colab-df-spinner');\n",
              "      quickchartButtonEl.classList.add('colab-df-quickchart-complete');\n",
              "    }\n",
              "    (() => {\n",
              "      let quickchartButtonEl =\n",
              "        document.querySelector('#df-5685a248-97d5-4f39-b369-90e1b3cb64af button');\n",
              "      quickchartButtonEl.style.display =\n",
              "        google.colab.kernel.accessAllowed ? 'block' : 'none';\n",
              "    })();\n",
              "  </script>\n",
              "</div>\n",
              "\n",
              "    </div>\n",
              "  </div>\n"
            ],
            "application/vnd.google.colaboratory.intrinsic+json": {
              "type": "dataframe",
              "variable_name": "df_hh",
              "summary": "{\n  \"name\": \"df_hh\",\n  \"rows\": 6,\n  \"fields\": [\n    {\n      \"column\": \"Name\",\n      \"properties\": {\n        \"dtype\": \"string\",\n        \"num_unique_values\": 6,\n        \"samples\": [\n          \"\\ud398\\ub77c\\uc790\",\n          \"\\uc70c\\ub9ac\\uc5c4\\uc2a4\",\n          \"\\ubc18\\uc988\"\n        ],\n        \"semantic_type\": \"\",\n        \"description\": \"\"\n      }\n    },\n    {\n      \"column\": \"OPS\",\n      \"properties\": {\n        \"dtype\": \"number\",\n        \"std\": 0.11009041738498404,\n        \"min\": 0.678,\n        \"max\": 0.983,\n        \"num_unique_values\": 6,\n        \"samples\": [\n          0.983,\n          0.678,\n          0.77\n        ],\n        \"semantic_type\": \"\",\n        \"description\": \"\"\n      }\n    },\n    {\n      \"column\": \"wRC+\",\n      \"properties\": {\n        \"dtype\": \"number\",\n        \"std\": 28.507098531184592,\n        \"min\": 82.6,\n        \"max\": 158.0,\n        \"num_unique_values\": 6,\n        \"samples\": [\n          158.0,\n          82.6,\n          106.6\n        ],\n        \"semantic_type\": \"\",\n        \"description\": \"\"\n      }\n    },\n    {\n      \"column\": \"WAR\",\n      \"properties\": {\n        \"dtype\": \"number\",\n        \"std\": 1.6597831183621552,\n        \"min\": -0.81,\n        \"max\": 4.06,\n        \"num_unique_values\": 6,\n        \"samples\": [\n          2.03,\n          -0.81,\n          2.01\n        ],\n        \"semantic_type\": \"\",\n        \"description\": \"\"\n      }\n    }\n  ]\n}"
            }
          },
          "metadata": {},
          "execution_count": 7
        }
      ]
    },
    {
      "cell_type": "code",
      "source": [
        "# 칼럼 추출\n",
        "ops_h = df_h['OPS']\n",
        "ops_fh = df_hh['OPS']\n",
        "\n",
        "wrc_h = df_h['wRC+']\n",
        "wrc_fh = df_hh['wRC+']\n",
        "\n",
        "war_h = df_h['WAR']\n",
        "war_fh = df_hh['WAR']\n",
        "\n",
        "# Mann-Whitney U 검정 시행\n",
        "ops_stat, ops_p = mannwhitneyu(ops_h, ops_fh)\n",
        "wrc_stat, wrc_p = mannwhitneyu(wrc_h, wrc_fh)\n",
        "war_stat, war_p = mannwhitneyu(war_h, war_fh)\n",
        "\n",
        "# 결과 출력\n",
        "print(f'OPS Mann-Whitney U test: U={ops_stat}, p={ops_p}')\n",
        "print(f'wRC+ Mann-Whitney U test: U={wrc_stat}, p={wrc_p}')\n",
        "print(f'WAR Mann-Whitney U test: U={war_stat}, p={war_p}')"
      ],
      "metadata": {
        "colab": {
          "base_uri": "https://localhost:8080/"
        },
        "id": "uJPe3K_x_qZ6",
        "outputId": "0e900f16-773a-4dd1-9e8e-64a21c0770af"
      },
      "execution_count": null,
      "outputs": [
        {
          "output_type": "stream",
          "name": "stdout",
          "text": [
            "OPS Mann-Whitney U test: U=203.0, p=0.13402592451858658\n",
            "wRC+ Mann-Whitney U test: U=211.0, p=0.08646083442335226\n",
            "WAR Mann-Whitney U test: U=199.0, p=0.16440153701914428\n"
          ]
        }
      ]
    },
    {
      "cell_type": "markdown",
      "source": [
        "검정 결과 세 지표 모두 P값이 매우 작지만 통상적으로 사용되는 유의수준인 0.05보다는 크다. 그러나 모두 P-value가 0.2 이하인 것은 사실상 한화와 그 외의 팀들의 외국인 투수의 능력에 차이가 있다 볼 수 있다."
      ],
      "metadata": {
        "id": "UcfCXlH7AXbI"
      }
    },
    {
      "cell_type": "markdown",
      "source": [
        "# 외국인 투수"
      ],
      "metadata": {
        "id": "7phhem_tB8ux"
      }
    },
    {
      "cell_type": "code",
      "source": [
        "df_p.columns"
      ],
      "metadata": {
        "colab": {
          "base_uri": "https://localhost:8080/"
        },
        "id": "z_VyA6gpAW6W",
        "outputId": "40ff3bf8-adc5-4804-f581-ead99b2a3639"
      },
      "execution_count": null,
      "outputs": [
        {
          "output_type": "execute_result",
          "data": {
            "text/plain": [
              "Index(['Rank', 'Name', 'Team', 'WAR', 'G', 'GS(선발)', 'GR(구원)', 'GF(마무리)',\n",
              "       'CG(완투)', 'SHO(완봉)', 'W(승)', 'L(패)', 'S(세이브)', 'HD(홀드)', 'IP(이닝)',\n",
              "       'ER(자책점)', 'R(실점)', 'rRA(책임 실점)', 'TBF(상대한 타자 수)', 'H(안타)', '2B', '3B',\n",
              "       'HR', 'BB(4구)', 'HP(사구)', 'IB(고의사구)', 'SO(삼진)', 'ROE(실책 출루 허용 횟수)',\n",
              "       'BK(보크)', 'WP(폭투)', 'ERA(평균자책점)', 'RA9(9이닝당 실점)', 'rRA9(9이닝 당 책임실점)',\n",
              "       'rRA9pf(파크팩터 적용 ver)', 'FIP(수비 무관 평균자책점)', 'WHIP(이닝 당 출루허용률)', 'WAR.1'],\n",
              "      dtype='object')"
            ]
          },
          "metadata": {},
          "execution_count": 9
        }
      ]
    },
    {
      "cell_type": "code",
      "source": [
        "df_hp.columns"
      ],
      "metadata": {
        "colab": {
          "base_uri": "https://localhost:8080/"
        },
        "id": "YysSqKN4AG6A",
        "outputId": "b3d7e2e7-94c2-4475-e4cb-08fa5e5aa09c"
      },
      "execution_count": null,
      "outputs": [
        {
          "output_type": "execute_result",
          "data": {
            "text/plain": [
              "Index(['이름', 'Div.', 'Year', 'Team', 'Age', 'Pos.', 'G', 'GS(선발)', 'GR(구원)',\n",
              "       'GF(마무리)', 'CG(완투)', 'SHO(완봉)', 'W(승)', 'L(패)', 'S(세이브)', 'HD(홀드)',\n",
              "       'IP(이닝)', 'ER(자책점)', 'R(실점)', 'rRA(책임 실점)', 'TBF(상대한 타자 수)', 'H(안타)',\n",
              "       '2B', '3B', 'HR', 'BB(4구)', 'HP(사구)', 'IB(고의사구)', 'SO(삼진)',\n",
              "       'ROE(실책 출루 허용 횟수)', 'BK(보크)', 'WP(폭투)', 'ERA(평균자책점)', 'RA9(9이닝당 실점)',\n",
              "       'rRA9(9이닝 당 책임실점)', 'rRA9pf(파크팩터 적용 ver)', 'FIP(수비 무관 평균자책점)',\n",
              "       'WHIP(이닝 당 출루허용률)', 'WAR'],\n",
              "      dtype='object')"
            ]
          },
          "metadata": {},
          "execution_count": 10
        }
      ]
    },
    {
      "cell_type": "code",
      "source": [
        "# df_fh에서 '이름' 칼럼을 리스트로 변환\n",
        "names_to_remove = df_hp['이름'].tolist()\n",
        "\n",
        "# df_h에서 'Name' 칼럼이 names_to_remove 리스트에 있는 행을 삭제\n",
        "df_p_filtered = df_p[~df_p['Name'].isin(names_to_remove)]\n",
        "\n",
        "# 필요한 칼럼만 추출\n",
        "df_p = df_p_filtered[['Name', 'ERA(평균자책점)', 'WHIP(이닝 당 출루허용률)', 'WAR']]\n",
        "\n",
        "# 칼럼 이름 재설정\n",
        "df_p = df_p.rename(columns={\n",
        "    'ERA(평균자책점)': 'ERA',\n",
        "    'WHIP(이닝 당 출루허용률)' : 'WHIP'\n",
        "})\n",
        "\n",
        "# 필요한 칼럼만 추출\n",
        "df_hp = df_hp[['이름', 'ERA(평균자책점)', 'WHIP(이닝 당 출루허용률)', 'WAR']]\n",
        "\n",
        "# 칼럼명 변경\n",
        "df_hp = df_hp.rename(columns={\n",
        "    'ERA(평균자책점)': 'ERA',\n",
        "    'WHIP(이닝 당 출루허용률)' : 'WHIP',\n",
        "    '이름' : 'Name'\n",
        "})"
      ],
      "metadata": {
        "id": "EY0mdj4SBK2K"
      },
      "execution_count": null,
      "outputs": []
    },
    {
      "cell_type": "code",
      "source": [
        "# 칼럼 추출\n",
        "era_p = df_p['ERA']\n",
        "era_hp = df_hp['ERA']\n",
        "\n",
        "whip_p = df_p['WHIP']\n",
        "whip_hp = df_hp['WHIP']\n",
        "\n",
        "war_p = df_p['WAR']\n",
        "war_hp = df_hp['WAR']\n",
        "\n",
        "# Mann-Whitney U 검정 시행\n",
        "era_stat, era_p = mannwhitneyu(era_p, era_hp)\n",
        "whip_stat, whip_p = mannwhitneyu(whip_p, whip_hp)\n",
        "war_stat, war_p = mannwhitneyu(war_p, war_hp)\n",
        "\n",
        "# 결과 출력\n",
        "print(f'ERA Mann-Whitney U test: U={era_stat}, p={era_p}')\n",
        "print(f'WHIP Mann-Whitney U test: U={whip_stat}, p={whip_p}')\n",
        "print(f'WAR Mann-Whitney U test: U={war_stat}, p={war_p}')"
      ],
      "metadata": {
        "colab": {
          "base_uri": "https://localhost:8080/"
        },
        "id": "L8uqM1TjCTUL",
        "outputId": "fa7c8d96-5735-4d11-eb8c-b41ac0707939"
      },
      "execution_count": null,
      "outputs": [
        {
          "output_type": "stream",
          "name": "stdout",
          "text": [
            "ERA Mann-Whitney U test: U=257.5, p=0.04638389036410223\n",
            "WHIP Mann-Whitney U test: U=292.0, p=0.11019770819905327\n",
            "WAR Mann-Whitney U test: U=515.5, p=0.3420617500936528\n"
          ]
        }
      ]
    },
    {
      "cell_type": "markdown",
      "source": [
        "여기서도 WAR을 제외하면 상당히 통계적으로 유의하다고 볼 수 있다."
      ],
      "metadata": {
        "id": "Z7k1IE6yEp_-"
      }
    },
    {
      "cell_type": "markdown",
      "source": [
        "# 신인 타자"
      ],
      "metadata": {
        "id": "V8Pcsz_9IfYT"
      }
    },
    {
      "cell_type": "code",
      "source": [
        "df_nh.columns"
      ],
      "metadata": {
        "colab": {
          "base_uri": "https://localhost:8080/"
        },
        "id": "T3TSX6VsAUjj",
        "outputId": "2a93152a-8dea-4e89-d36f-dac681e42151"
      },
      "execution_count": null,
      "outputs": [
        {
          "output_type": "execute_result",
          "data": {
            "text/plain": [
              "Index(['이름', 'Div.', 'Year', 'Team', 'Age', 'Pos.', 'oWAR(공격)', 'dWAR(수비)',\n",
              "       'G', 'PA(타석)', 'ePA(실질타석)', 'AB(타수)', 'R(득점)', 'H(안타)', '2B', '3B',\n",
              "       'HR', 'TB(루타)', 'RBI(타점)', 'SB(도루)', 'CS(도루실패)', 'BB(4구)', 'HP(사구)',\n",
              "       'IB(고의4구)', 'SO(삼진)', 'GDP(병살타)', 'SH(희생타)', 'SF(희생플라이)', 'AVG(타율)',\n",
              "       'OBP(출루율)', 'SLG(장타율)', 'OPS', 'R/ePA', 'wRC+(득점 창출력)', 'WAR'],\n",
              "      dtype='object')"
            ]
          },
          "metadata": {},
          "execution_count": 13
        }
      ]
    },
    {
      "cell_type": "code",
      "source": [
        "# df_hnh에서 '이름' 칼럼을 리스트로 변환\n",
        "names_to_remove = df_hnh['이름'].tolist()\n",
        "\n",
        "# df_nh에서 'Name' 칼럼이 names_to_remove 리스트에 있는 행을 삭제\n",
        "df_nh_filtered = df_nh[~df_nh['이름'].isin(names_to_remove)]\n",
        "\n",
        "# 필요한 칼럼만 추출\n",
        "df_nh = df_nh_filtered[['이름', 'OPS', 'wRC+(득점 창출력)', 'WAR']]\n",
        "\n",
        "# 칼럼 이름 재설정\n",
        "df_nh = df_nh.rename(columns={\n",
        "    'wRC+(득점 창출력)': 'wRC+',\n",
        "    '이름': 'Name'\n",
        "})\n",
        "\n",
        "# 필요한 칼럼만 추출\n",
        "df_hnh = df_hnh[['이름', 'OPS', 'wRC+(득점 창출력)', 'WAR']]\n",
        "\n",
        "# 칼럼명 변경\n",
        "df_hnh = df_hnh.rename(columns={\n",
        "    'wRC+(득점 창출력)': 'wRC+',\n",
        "    '이름': 'Name'\n",
        "})\n",
        "\n",
        "\n",
        "# 칼럼 추출\n",
        "ops_nh = df_nh['OPS']\n",
        "ops_hnh = df_hnh['OPS']\n",
        "\n",
        "wrc_nh = df_nh['wRC+']\n",
        "wrc_hnh = df_hnh['wRC+']\n",
        "\n",
        "war_nh = df_nh['WAR']\n",
        "war_hnh = df_hnh['WAR']\n",
        "\n",
        "# Mann-Whitney U 검정 시행\n",
        "ops_stat, ops_p = mannwhitneyu(ops_nh, ops_hnh)\n",
        "wrc_stat, wrc_p = mannwhitneyu(wrc_nh, wrc_hnh)\n",
        "war_stat, war_p = mannwhitneyu(war_nh, war_hnh)\n",
        "\n",
        "# 결과 출력\n",
        "print(f'OPS Mann-Whitney U test: U={ops_stat}, p={ops_p}')\n",
        "print(f'wRC+ Mann-Whitney U test: U={wrc_stat}, p={wrc_p}')\n",
        "print(f'WAR Mann-Whitney U test: U={war_stat}, p={war_p}')"
      ],
      "metadata": {
        "id": "mDdOrC3_Eocc",
        "colab": {
          "base_uri": "https://localhost:8080/"
        },
        "outputId": "798b0491-8a5f-4e51-fca0-d65a7e86ee39"
      },
      "execution_count": null,
      "outputs": [
        {
          "output_type": "stream",
          "name": "stdout",
          "text": [
            "OPS Mann-Whitney U test: U=136.0, p=0.39047460843310666\n",
            "wRC+ Mann-Whitney U test: U=130.0, p=0.5262350868226021\n",
            "WAR Mann-Whitney U test: U=133.0, p=0.45105342224335077\n"
          ]
        }
      ]
    },
    {
      "cell_type": "markdown",
      "source": [
        "p-value를 확인해 보니 셋 다 통계적으로 유의하지 않다."
      ],
      "metadata": {
        "id": "ECPGTaW5CSVS"
      }
    },
    {
      "cell_type": "markdown",
      "source": [
        "# 신인 투수"
      ],
      "metadata": {
        "id": "2jfAIjSdMoY-"
      }
    },
    {
      "cell_type": "code",
      "source": [
        "df_hnp.head()"
      ],
      "metadata": {
        "colab": {
          "base_uri": "https://localhost:8080/",
          "height": 291
        },
        "id": "or24lqz8Cvrj",
        "outputId": "5937c03a-a9be-4578-f3c2-6e999d227392"
      },
      "execution_count": null,
      "outputs": [
        {
          "output_type": "execute_result",
          "data": {
            "text/plain": [
              "    이름 Div.  Year Team  Age Pos.     G  GS(선발)  GR(구원)  GF(마무리)  ...  \\\n",
              "0  한승주  베스트  2023   한화   21    P  47.0       6      41       12  ...   \n",
              "1  강재민  베스트  2021   한화   23    P  58.0       0      58       18  ...   \n",
              "2  김기중  베스트  2023   한화   20    P  37.0       6      31        6  ...   \n",
              "3  문동주  베스트  2023   한화   19    P  23.0      23       0        0  ...   \n",
              "\n",
              "   ROE(실책 출루 허용 횟수)  BK(보크)  WP(폭투)  ERA(평균자책점)  RA9(9이닝당 실점)  \\\n",
              "0                 1       0       5        3.95          4.33   \n",
              "1                 4       1       1        2.13          2.27   \n",
              "2                 2       0       2        4.63          5.27   \n",
              "3                 2       1       5        3.72          3.94   \n",
              "\n",
              "   rRA9(9이닝 당 책임실점)  rRA9pf(파크팩터 적용 ver)  FIP(수비 무관 평균자책점)  WHIP(이닝 당 출루허용률)  \\\n",
              "0              4.80                 4.75              4.45              1.58   \n",
              "1              3.21                 3.37              3.39              1.22   \n",
              "2              4.67                 4.67              4.69              1.54   \n",
              "3              3.79                 3.82              3.65              1.31   \n",
              "\n",
              "    WAR  \n",
              "0  0.57  \n",
              "1  1.79  \n",
              "2  0.67  \n",
              "3  2.96  \n",
              "\n",
              "[4 rows x 39 columns]"
            ],
            "text/html": [
              "\n",
              "  <div id=\"df-104eb116-da7b-4026-af27-dca0bfd2c0b5\" class=\"colab-df-container\">\n",
              "    <div>\n",
              "<style scoped>\n",
              "    .dataframe tbody tr th:only-of-type {\n",
              "        vertical-align: middle;\n",
              "    }\n",
              "\n",
              "    .dataframe tbody tr th {\n",
              "        vertical-align: top;\n",
              "    }\n",
              "\n",
              "    .dataframe thead th {\n",
              "        text-align: right;\n",
              "    }\n",
              "</style>\n",
              "<table border=\"1\" class=\"dataframe\">\n",
              "  <thead>\n",
              "    <tr style=\"text-align: right;\">\n",
              "      <th></th>\n",
              "      <th>이름</th>\n",
              "      <th>Div.</th>\n",
              "      <th>Year</th>\n",
              "      <th>Team</th>\n",
              "      <th>Age</th>\n",
              "      <th>Pos.</th>\n",
              "      <th>G</th>\n",
              "      <th>GS(선발)</th>\n",
              "      <th>GR(구원)</th>\n",
              "      <th>GF(마무리)</th>\n",
              "      <th>...</th>\n",
              "      <th>ROE(실책 출루 허용 횟수)</th>\n",
              "      <th>BK(보크)</th>\n",
              "      <th>WP(폭투)</th>\n",
              "      <th>ERA(평균자책점)</th>\n",
              "      <th>RA9(9이닝당 실점)</th>\n",
              "      <th>rRA9(9이닝 당 책임실점)</th>\n",
              "      <th>rRA9pf(파크팩터 적용 ver)</th>\n",
              "      <th>FIP(수비 무관 평균자책점)</th>\n",
              "      <th>WHIP(이닝 당 출루허용률)</th>\n",
              "      <th>WAR</th>\n",
              "    </tr>\n",
              "  </thead>\n",
              "  <tbody>\n",
              "    <tr>\n",
              "      <th>0</th>\n",
              "      <td>한승주</td>\n",
              "      <td>베스트</td>\n",
              "      <td>2023</td>\n",
              "      <td>한화</td>\n",
              "      <td>21</td>\n",
              "      <td>P</td>\n",
              "      <td>47.0</td>\n",
              "      <td>6</td>\n",
              "      <td>41</td>\n",
              "      <td>12</td>\n",
              "      <td>...</td>\n",
              "      <td>1</td>\n",
              "      <td>0</td>\n",
              "      <td>5</td>\n",
              "      <td>3.95</td>\n",
              "      <td>4.33</td>\n",
              "      <td>4.80</td>\n",
              "      <td>4.75</td>\n",
              "      <td>4.45</td>\n",
              "      <td>1.58</td>\n",
              "      <td>0.57</td>\n",
              "    </tr>\n",
              "    <tr>\n",
              "      <th>1</th>\n",
              "      <td>강재민</td>\n",
              "      <td>베스트</td>\n",
              "      <td>2021</td>\n",
              "      <td>한화</td>\n",
              "      <td>23</td>\n",
              "      <td>P</td>\n",
              "      <td>58.0</td>\n",
              "      <td>0</td>\n",
              "      <td>58</td>\n",
              "      <td>18</td>\n",
              "      <td>...</td>\n",
              "      <td>4</td>\n",
              "      <td>1</td>\n",
              "      <td>1</td>\n",
              "      <td>2.13</td>\n",
              "      <td>2.27</td>\n",
              "      <td>3.21</td>\n",
              "      <td>3.37</td>\n",
              "      <td>3.39</td>\n",
              "      <td>1.22</td>\n",
              "      <td>1.79</td>\n",
              "    </tr>\n",
              "    <tr>\n",
              "      <th>2</th>\n",
              "      <td>김기중</td>\n",
              "      <td>베스트</td>\n",
              "      <td>2023</td>\n",
              "      <td>한화</td>\n",
              "      <td>20</td>\n",
              "      <td>P</td>\n",
              "      <td>37.0</td>\n",
              "      <td>6</td>\n",
              "      <td>31</td>\n",
              "      <td>6</td>\n",
              "      <td>...</td>\n",
              "      <td>2</td>\n",
              "      <td>0</td>\n",
              "      <td>2</td>\n",
              "      <td>4.63</td>\n",
              "      <td>5.27</td>\n",
              "      <td>4.67</td>\n",
              "      <td>4.67</td>\n",
              "      <td>4.69</td>\n",
              "      <td>1.54</td>\n",
              "      <td>0.67</td>\n",
              "    </tr>\n",
              "    <tr>\n",
              "      <th>3</th>\n",
              "      <td>문동주</td>\n",
              "      <td>베스트</td>\n",
              "      <td>2023</td>\n",
              "      <td>한화</td>\n",
              "      <td>19</td>\n",
              "      <td>P</td>\n",
              "      <td>23.0</td>\n",
              "      <td>23</td>\n",
              "      <td>0</td>\n",
              "      <td>0</td>\n",
              "      <td>...</td>\n",
              "      <td>2</td>\n",
              "      <td>1</td>\n",
              "      <td>5</td>\n",
              "      <td>3.72</td>\n",
              "      <td>3.94</td>\n",
              "      <td>3.79</td>\n",
              "      <td>3.82</td>\n",
              "      <td>3.65</td>\n",
              "      <td>1.31</td>\n",
              "      <td>2.96</td>\n",
              "    </tr>\n",
              "  </tbody>\n",
              "</table>\n",
              "<p>4 rows × 39 columns</p>\n",
              "</div>\n",
              "    <div class=\"colab-df-buttons\">\n",
              "\n",
              "  <div class=\"colab-df-container\">\n",
              "    <button class=\"colab-df-convert\" onclick=\"convertToInteractive('df-104eb116-da7b-4026-af27-dca0bfd2c0b5')\"\n",
              "            title=\"Convert this dataframe to an interactive table.\"\n",
              "            style=\"display:none;\">\n",
              "\n",
              "  <svg xmlns=\"http://www.w3.org/2000/svg\" height=\"24px\" viewBox=\"0 -960 960 960\">\n",
              "    <path d=\"M120-120v-720h720v720H120Zm60-500h600v-160H180v160Zm220 220h160v-160H400v160Zm0 220h160v-160H400v160ZM180-400h160v-160H180v160Zm440 0h160v-160H620v160ZM180-180h160v-160H180v160Zm440 0h160v-160H620v160Z\"/>\n",
              "  </svg>\n",
              "    </button>\n",
              "\n",
              "  <style>\n",
              "    .colab-df-container {\n",
              "      display:flex;\n",
              "      gap: 12px;\n",
              "    }\n",
              "\n",
              "    .colab-df-convert {\n",
              "      background-color: #E8F0FE;\n",
              "      border: none;\n",
              "      border-radius: 50%;\n",
              "      cursor: pointer;\n",
              "      display: none;\n",
              "      fill: #1967D2;\n",
              "      height: 32px;\n",
              "      padding: 0 0 0 0;\n",
              "      width: 32px;\n",
              "    }\n",
              "\n",
              "    .colab-df-convert:hover {\n",
              "      background-color: #E2EBFA;\n",
              "      box-shadow: 0px 1px 2px rgba(60, 64, 67, 0.3), 0px 1px 3px 1px rgba(60, 64, 67, 0.15);\n",
              "      fill: #174EA6;\n",
              "    }\n",
              "\n",
              "    .colab-df-buttons div {\n",
              "      margin-bottom: 4px;\n",
              "    }\n",
              "\n",
              "    [theme=dark] .colab-df-convert {\n",
              "      background-color: #3B4455;\n",
              "      fill: #D2E3FC;\n",
              "    }\n",
              "\n",
              "    [theme=dark] .colab-df-convert:hover {\n",
              "      background-color: #434B5C;\n",
              "      box-shadow: 0px 1px 3px 1px rgba(0, 0, 0, 0.15);\n",
              "      filter: drop-shadow(0px 1px 2px rgba(0, 0, 0, 0.3));\n",
              "      fill: #FFFFFF;\n",
              "    }\n",
              "  </style>\n",
              "\n",
              "    <script>\n",
              "      const buttonEl =\n",
              "        document.querySelector('#df-104eb116-da7b-4026-af27-dca0bfd2c0b5 button.colab-df-convert');\n",
              "      buttonEl.style.display =\n",
              "        google.colab.kernel.accessAllowed ? 'block' : 'none';\n",
              "\n",
              "      async function convertToInteractive(key) {\n",
              "        const element = document.querySelector('#df-104eb116-da7b-4026-af27-dca0bfd2c0b5');\n",
              "        const dataTable =\n",
              "          await google.colab.kernel.invokeFunction('convertToInteractive',\n",
              "                                                    [key], {});\n",
              "        if (!dataTable) return;\n",
              "\n",
              "        const docLinkHtml = 'Like what you see? Visit the ' +\n",
              "          '<a target=\"_blank\" href=https://colab.research.google.com/notebooks/data_table.ipynb>data table notebook</a>'\n",
              "          + ' to learn more about interactive tables.';\n",
              "        element.innerHTML = '';\n",
              "        dataTable['output_type'] = 'display_data';\n",
              "        await google.colab.output.renderOutput(dataTable, element);\n",
              "        const docLink = document.createElement('div');\n",
              "        docLink.innerHTML = docLinkHtml;\n",
              "        element.appendChild(docLink);\n",
              "      }\n",
              "    </script>\n",
              "  </div>\n",
              "\n",
              "\n",
              "<div id=\"df-a3193853-9341-4310-844e-74c00f00f7fd\">\n",
              "  <button class=\"colab-df-quickchart\" onclick=\"quickchart('df-a3193853-9341-4310-844e-74c00f00f7fd')\"\n",
              "            title=\"Suggest charts\"\n",
              "            style=\"display:none;\">\n",
              "\n",
              "<svg xmlns=\"http://www.w3.org/2000/svg\" height=\"24px\"viewBox=\"0 0 24 24\"\n",
              "     width=\"24px\">\n",
              "    <g>\n",
              "        <path d=\"M19 3H5c-1.1 0-2 .9-2 2v14c0 1.1.9 2 2 2h14c1.1 0 2-.9 2-2V5c0-1.1-.9-2-2-2zM9 17H7v-7h2v7zm4 0h-2V7h2v10zm4 0h-2v-4h2v4z\"/>\n",
              "    </g>\n",
              "</svg>\n",
              "  </button>\n",
              "\n",
              "<style>\n",
              "  .colab-df-quickchart {\n",
              "      --bg-color: #E8F0FE;\n",
              "      --fill-color: #1967D2;\n",
              "      --hover-bg-color: #E2EBFA;\n",
              "      --hover-fill-color: #174EA6;\n",
              "      --disabled-fill-color: #AAA;\n",
              "      --disabled-bg-color: #DDD;\n",
              "  }\n",
              "\n",
              "  [theme=dark] .colab-df-quickchart {\n",
              "      --bg-color: #3B4455;\n",
              "      --fill-color: #D2E3FC;\n",
              "      --hover-bg-color: #434B5C;\n",
              "      --hover-fill-color: #FFFFFF;\n",
              "      --disabled-bg-color: #3B4455;\n",
              "      --disabled-fill-color: #666;\n",
              "  }\n",
              "\n",
              "  .colab-df-quickchart {\n",
              "    background-color: var(--bg-color);\n",
              "    border: none;\n",
              "    border-radius: 50%;\n",
              "    cursor: pointer;\n",
              "    display: none;\n",
              "    fill: var(--fill-color);\n",
              "    height: 32px;\n",
              "    padding: 0;\n",
              "    width: 32px;\n",
              "  }\n",
              "\n",
              "  .colab-df-quickchart:hover {\n",
              "    background-color: var(--hover-bg-color);\n",
              "    box-shadow: 0 1px 2px rgba(60, 64, 67, 0.3), 0 1px 3px 1px rgba(60, 64, 67, 0.15);\n",
              "    fill: var(--button-hover-fill-color);\n",
              "  }\n",
              "\n",
              "  .colab-df-quickchart-complete:disabled,\n",
              "  .colab-df-quickchart-complete:disabled:hover {\n",
              "    background-color: var(--disabled-bg-color);\n",
              "    fill: var(--disabled-fill-color);\n",
              "    box-shadow: none;\n",
              "  }\n",
              "\n",
              "  .colab-df-spinner {\n",
              "    border: 2px solid var(--fill-color);\n",
              "    border-color: transparent;\n",
              "    border-bottom-color: var(--fill-color);\n",
              "    animation:\n",
              "      spin 1s steps(1) infinite;\n",
              "  }\n",
              "\n",
              "  @keyframes spin {\n",
              "    0% {\n",
              "      border-color: transparent;\n",
              "      border-bottom-color: var(--fill-color);\n",
              "      border-left-color: var(--fill-color);\n",
              "    }\n",
              "    20% {\n",
              "      border-color: transparent;\n",
              "      border-left-color: var(--fill-color);\n",
              "      border-top-color: var(--fill-color);\n",
              "    }\n",
              "    30% {\n",
              "      border-color: transparent;\n",
              "      border-left-color: var(--fill-color);\n",
              "      border-top-color: var(--fill-color);\n",
              "      border-right-color: var(--fill-color);\n",
              "    }\n",
              "    40% {\n",
              "      border-color: transparent;\n",
              "      border-right-color: var(--fill-color);\n",
              "      border-top-color: var(--fill-color);\n",
              "    }\n",
              "    60% {\n",
              "      border-color: transparent;\n",
              "      border-right-color: var(--fill-color);\n",
              "    }\n",
              "    80% {\n",
              "      border-color: transparent;\n",
              "      border-right-color: var(--fill-color);\n",
              "      border-bottom-color: var(--fill-color);\n",
              "    }\n",
              "    90% {\n",
              "      border-color: transparent;\n",
              "      border-bottom-color: var(--fill-color);\n",
              "    }\n",
              "  }\n",
              "</style>\n",
              "\n",
              "  <script>\n",
              "    async function quickchart(key) {\n",
              "      const quickchartButtonEl =\n",
              "        document.querySelector('#' + key + ' button');\n",
              "      quickchartButtonEl.disabled = true;  // To prevent multiple clicks.\n",
              "      quickchartButtonEl.classList.add('colab-df-spinner');\n",
              "      try {\n",
              "        const charts = await google.colab.kernel.invokeFunction(\n",
              "            'suggestCharts', [key], {});\n",
              "      } catch (error) {\n",
              "        console.error('Error during call to suggestCharts:', error);\n",
              "      }\n",
              "      quickchartButtonEl.classList.remove('colab-df-spinner');\n",
              "      quickchartButtonEl.classList.add('colab-df-quickchart-complete');\n",
              "    }\n",
              "    (() => {\n",
              "      let quickchartButtonEl =\n",
              "        document.querySelector('#df-a3193853-9341-4310-844e-74c00f00f7fd button');\n",
              "      quickchartButtonEl.style.display =\n",
              "        google.colab.kernel.accessAllowed ? 'block' : 'none';\n",
              "    })();\n",
              "  </script>\n",
              "</div>\n",
              "\n",
              "    </div>\n",
              "  </div>\n"
            ],
            "application/vnd.google.colaboratory.intrinsic+json": {
              "type": "dataframe",
              "variable_name": "df_hnp"
            }
          },
          "metadata": {},
          "execution_count": 13
        }
      ]
    },
    {
      "cell_type": "code",
      "source": [
        "# df_hnp에서 '이름' 칼럼을 리스트로 변환\n",
        "names_to_remove = df_hnp['이름'].tolist()\n",
        "\n",
        "# df_np에서 'Name' 칼럼이 names_to_remove 리스트에 있는 행을 삭제\n",
        "df_np_filtered = df_np[~df_np['이름'].isin(names_to_remove)]\n",
        "\n",
        "# 필요한 칼럼만 추출\n",
        "df_np = df_np_filtered[['이름', 'ERA(평균자책점)', 'WHIP(이닝 당 출루허용률)', 'WAR']]\n",
        "\n",
        "# 칼럼 이름 재설정\n",
        "df_np = df_np.rename(columns={\n",
        "    'ERA(평균자책점)': 'ERA',\n",
        "    'WHIP(이닝 당 출루허용률)': 'WHIP',\n",
        "    '이름': 'Name'\n",
        "})\n",
        "\n",
        "# 필요한 칼럼만 추출\n",
        "df_hnp = df_hnp[['이름', 'ERA(평균자책점)', 'WHIP(이닝 당 출루허용률)', 'WAR']]\n",
        "\n",
        "# 칼럼명 변경\n",
        "df_hnp = df_hnp.rename(columns={\n",
        "    'ERA(평균자책점)': 'ERA',\n",
        "    'WHIP(이닝 당 출루허용률)': 'WHIP',\n",
        "    '이름': 'Name'\n",
        "})\n",
        "\n",
        "# 칼럼 추출\n",
        "era_np = df_np['ERA']\n",
        "era_hnp = df_hnp['ERA']\n",
        "\n",
        "whip_np = df_np['WHIP']\n",
        "whip_hnp = df_hnp['WHIP']\n",
        "\n",
        "war_np = df_np['WAR']\n",
        "war_hnp = df_hnp['WAR']\n",
        "\n",
        "# Mann-Whitney U 검정 시행\n",
        "era_stat, era_p = mannwhitneyu(era_np, era_hnp)\n",
        "whip_stat, whip_p = mannwhitneyu(whip_np, whip_hnp)\n",
        "war_stat, war_p = mannwhitneyu(war_np, war_hnp)\n",
        "\n",
        "# 결과 출력\n",
        "print(f'ERA Mann-Whitney U test: U={era_stat}, p={era_p}')\n",
        "print(f'WHIP Mann-Whitney U test: U={whip_stat}, p={whip_p}')\n",
        "print(f'WAR Mann-Whitney U test: U={war_stat}, p={war_p}')"
      ],
      "metadata": {
        "colab": {
          "base_uri": "https://localhost:8080/"
        },
        "id": "XjhwuuGhAS5Y",
        "outputId": "194fa19e-5c0f-47ce-d694-9489c060f008"
      },
      "execution_count": null,
      "outputs": [
        {
          "output_type": "stream",
          "name": "stdout",
          "text": [
            "ERA Mann-Whitney U test: U=81.0, p=0.9846370683579988\n",
            "WHIP Mann-Whitney U test: U=76.5, p=0.8418911632322075\n",
            "WAR Mann-Whitney U test: U=73.0, p=0.7345876062694617\n"
          ]
        }
      ]
    },
    {
      "cell_type": "markdown",
      "source": [
        "p-value를 확인해보니 셋다 통계적으로 유의하지 않다"
      ],
      "metadata": {
        "id": "CTvQDW0xEUzN"
      }
    },
    {
      "cell_type": "markdown",
      "source": [
        "# 결론\n",
        "\n",
        "외국인 투수, 타자에 있어서는 한화 선수들이 유의미하게 저조한 성적을 낸다는 것을 비모수적 검정으로 확인할 수 있었다.  \n",
        "\n",
        "그러나 신인 투수, 타자에 대해서는 한화 선수들과 타팀 선수들 간의 유의미한 실력 차이가 없다는 것을 확인할 수 있었다.  \n",
        "\n",
        "따라서 한화의 외국인 스카우팅 시스템에 문제가 있다고 볼 수 있다.\n"
      ],
      "metadata": {
        "id": "6eVk3gVJEa5w"
      }
    }
  ]
}